{
 "cells": [
  {
   "cell_type": "markdown",
   "id": "54b29214",
   "metadata": {},
   "source": [
    "## Importing necessary libraries"
   ]
  },
  {
   "cell_type": "code",
   "execution_count": 1,
   "id": "55ce4f72",
   "metadata": {},
   "outputs": [
    {
     "name": "stderr",
     "output_type": "stream",
     "text": [
      "[nltk_data] Downloading package vader_lexicon to\n",
      "[nltk_data]     /Users/kabirjuneja/nltk_data...\n",
      "[nltk_data]   Package vader_lexicon is already up-to-date!\n"
     ]
    },
    {
     "data": {
      "text/plain": [
       "True"
      ]
     },
     "execution_count": 1,
     "metadata": {},
     "output_type": "execute_result"
    }
   ],
   "source": [
    "import json\n",
    "import numpy as np\n",
    "import pandas as pd\n",
    "from langdetect import detect\n",
    "from tqdm import tqdm\n",
    "from tqdm.notebook import tqdm_notebook\n",
    "from textblob import TextBlob\n",
    "import afinn\n",
    "import plotly.express as px\n",
    "import plotly.graph_objects as go\n",
    "import langid\n",
    "import nltk\n",
    "from nltk.sentiment.vader import SentimentIntensityAnalyzer\n",
    "nltk.download('vader_lexicon')"
   ]
  },
  {
   "cell_type": "markdown",
   "id": "ddbb7c1b",
   "metadata": {},
   "source": [
    "## Loading the Telegram data in JSON"
   ]
  },
  {
   "cell_type": "code",
   "execution_count": 2,
   "id": "c2c64e38",
   "metadata": {},
   "outputs": [],
   "source": [
    "file = open('result.json', encoding='utf8')\n",
    "data = json.load(file)"
   ]
  },
  {
   "cell_type": "markdown",
   "id": "fc038097",
   "metadata": {},
   "source": [
    "### Extracting only the messages component of data"
   ]
  },
  {
   "cell_type": "code",
   "execution_count": 3,
   "id": "22c2943d",
   "metadata": {},
   "outputs": [],
   "source": [
    "messages = data['messages']"
   ]
  },
  {
   "cell_type": "markdown",
   "id": "89880bf9",
   "metadata": {},
   "source": [
    "### Converting JSON messages into pandas DataFrame"
   ]
  },
  {
   "cell_type": "code",
   "execution_count": 4,
   "id": "36eae349",
   "metadata": {},
   "outputs": [],
   "source": [
    "messagesData = pd.DataFrame(messages)"
   ]
  },
  {
   "cell_type": "markdown",
   "id": "9530b3f8",
   "metadata": {},
   "source": [
    "### A look at the dataframe"
   ]
  },
  {
   "cell_type": "code",
   "execution_count": 5,
   "id": "9a3d609a",
   "metadata": {},
   "outputs": [
    {
     "data": {
      "text/html": [
       "<div>\n",
       "<style scoped>\n",
       "    .dataframe tbody tr th:only-of-type {\n",
       "        vertical-align: middle;\n",
       "    }\n",
       "\n",
       "    .dataframe tbody tr th {\n",
       "        vertical-align: top;\n",
       "    }\n",
       "\n",
       "    .dataframe thead th {\n",
       "        text-align: right;\n",
       "    }\n",
       "</style>\n",
       "<table border=\"1\" class=\"dataframe\">\n",
       "  <thead>\n",
       "    <tr style=\"text-align: right;\">\n",
       "      <th></th>\n",
       "      <th>id</th>\n",
       "      <th>type</th>\n",
       "      <th>date</th>\n",
       "      <th>from</th>\n",
       "      <th>from_id</th>\n",
       "      <th>text</th>\n",
       "      <th>reply_to_message_id</th>\n",
       "      <th>forwarded_from</th>\n",
       "      <th>actor</th>\n",
       "      <th>actor_id</th>\n",
       "      <th>...</th>\n",
       "      <th>message_id</th>\n",
       "      <th>file</th>\n",
       "      <th>thumbnail</th>\n",
       "      <th>media_type</th>\n",
       "      <th>sticker_emoji</th>\n",
       "      <th>contact_information</th>\n",
       "      <th>contact_vcard</th>\n",
       "      <th>mime_type</th>\n",
       "      <th>duration_seconds</th>\n",
       "      <th>via_bot</th>\n",
       "    </tr>\n",
       "  </thead>\n",
       "  <tbody>\n",
       "    <tr>\n",
       "      <th>0</th>\n",
       "      <td>1903819</td>\n",
       "      <td>message</td>\n",
       "      <td>2021-05-01T00:00:12</td>\n",
       "      <td>None</td>\n",
       "      <td>user1650688285</td>\n",
       "      <td>hi</td>\n",
       "      <td>NaN</td>\n",
       "      <td>NaN</td>\n",
       "      <td>NaN</td>\n",
       "      <td>NaN</td>\n",
       "      <td>...</td>\n",
       "      <td>NaN</td>\n",
       "      <td>NaN</td>\n",
       "      <td>NaN</td>\n",
       "      <td>NaN</td>\n",
       "      <td>NaN</td>\n",
       "      <td>NaN</td>\n",
       "      <td>NaN</td>\n",
       "      <td>NaN</td>\n",
       "      <td>NaN</td>\n",
       "      <td>NaN</td>\n",
       "    </tr>\n",
       "    <tr>\n",
       "      <th>1</th>\n",
       "      <td>1903842</td>\n",
       "      <td>message</td>\n",
       "      <td>2021-05-01T00:01:13</td>\n",
       "      <td>None</td>\n",
       "      <td>user1650688285</td>\n",
       "      <td>do indicators work?</td>\n",
       "      <td>NaN</td>\n",
       "      <td>NaN</td>\n",
       "      <td>NaN</td>\n",
       "      <td>NaN</td>\n",
       "      <td>...</td>\n",
       "      <td>NaN</td>\n",
       "      <td>NaN</td>\n",
       "      <td>NaN</td>\n",
       "      <td>NaN</td>\n",
       "      <td>NaN</td>\n",
       "      <td>NaN</td>\n",
       "      <td>NaN</td>\n",
       "      <td>NaN</td>\n",
       "      <td>NaN</td>\n",
       "      <td>NaN</td>\n",
       "    </tr>\n",
       "    <tr>\n",
       "      <th>2</th>\n",
       "      <td>1903855</td>\n",
       "      <td>message</td>\n",
       "      <td>2021-05-01T00:01:50</td>\n",
       "      <td>Social Ch4in</td>\n",
       "      <td>user484605980</td>\n",
       "      <td>If you trade true gbp for gbp Fiat or vice Ver...</td>\n",
       "      <td>NaN</td>\n",
       "      <td>NaN</td>\n",
       "      <td>NaN</td>\n",
       "      <td>NaN</td>\n",
       "      <td>...</td>\n",
       "      <td>NaN</td>\n",
       "      <td>NaN</td>\n",
       "      <td>NaN</td>\n",
       "      <td>NaN</td>\n",
       "      <td>NaN</td>\n",
       "      <td>NaN</td>\n",
       "      <td>NaN</td>\n",
       "      <td>NaN</td>\n",
       "      <td>NaN</td>\n",
       "      <td>NaN</td>\n",
       "    </tr>\n",
       "    <tr>\n",
       "      <th>3</th>\n",
       "      <td>1903856</td>\n",
       "      <td>message</td>\n",
       "      <td>2021-05-01T00:02:05</td>\n",
       "      <td>Social Ch4in</td>\n",
       "      <td>user484605980</td>\n",
       "      <td>And how much is that fee?</td>\n",
       "      <td>NaN</td>\n",
       "      <td>NaN</td>\n",
       "      <td>NaN</td>\n",
       "      <td>NaN</td>\n",
       "      <td>...</td>\n",
       "      <td>NaN</td>\n",
       "      <td>NaN</td>\n",
       "      <td>NaN</td>\n",
       "      <td>NaN</td>\n",
       "      <td>NaN</td>\n",
       "      <td>NaN</td>\n",
       "      <td>NaN</td>\n",
       "      <td>NaN</td>\n",
       "      <td>NaN</td>\n",
       "      <td>NaN</td>\n",
       "    </tr>\n",
       "    <tr>\n",
       "      <th>4</th>\n",
       "      <td>1903857</td>\n",
       "      <td>message</td>\n",
       "      <td>2021-05-01T00:02:12</td>\n",
       "      <td>Social Ch4in</td>\n",
       "      <td>user484605980</td>\n",
       "      <td>If you’re a silver card holder</td>\n",
       "      <td>NaN</td>\n",
       "      <td>NaN</td>\n",
       "      <td>NaN</td>\n",
       "      <td>NaN</td>\n",
       "      <td>...</td>\n",
       "      <td>NaN</td>\n",
       "      <td>NaN</td>\n",
       "      <td>NaN</td>\n",
       "      <td>NaN</td>\n",
       "      <td>NaN</td>\n",
       "      <td>NaN</td>\n",
       "      <td>NaN</td>\n",
       "      <td>NaN</td>\n",
       "      <td>NaN</td>\n",
       "      <td>NaN</td>\n",
       "    </tr>\n",
       "  </tbody>\n",
       "</table>\n",
       "<p>5 rows × 26 columns</p>\n",
       "</div>"
      ],
      "text/plain": [
       "        id     type                 date          from         from_id  \\\n",
       "0  1903819  message  2021-05-01T00:00:12          None  user1650688285   \n",
       "1  1903842  message  2021-05-01T00:01:13          None  user1650688285   \n",
       "2  1903855  message  2021-05-01T00:01:50  Social Ch4in   user484605980   \n",
       "3  1903856  message  2021-05-01T00:02:05  Social Ch4in   user484605980   \n",
       "4  1903857  message  2021-05-01T00:02:12  Social Ch4in   user484605980   \n",
       "\n",
       "                                                text  reply_to_message_id  \\\n",
       "0                                                 hi                  NaN   \n",
       "1                                do indicators work?                  NaN   \n",
       "2  If you trade true gbp for gbp Fiat or vice Ver...                  NaN   \n",
       "3                          And how much is that fee?                  NaN   \n",
       "4                     If you’re a silver card holder                  NaN   \n",
       "\n",
       "  forwarded_from actor actor_id  ... message_id file thumbnail media_type  \\\n",
       "0            NaN   NaN      NaN  ...        NaN  NaN       NaN        NaN   \n",
       "1            NaN   NaN      NaN  ...        NaN  NaN       NaN        NaN   \n",
       "2            NaN   NaN      NaN  ...        NaN  NaN       NaN        NaN   \n",
       "3            NaN   NaN      NaN  ...        NaN  NaN       NaN        NaN   \n",
       "4            NaN   NaN      NaN  ...        NaN  NaN       NaN        NaN   \n",
       "\n",
       "   sticker_emoji  contact_information  contact_vcard mime_type  \\\n",
       "0            NaN                  NaN            NaN       NaN   \n",
       "1            NaN                  NaN            NaN       NaN   \n",
       "2            NaN                  NaN            NaN       NaN   \n",
       "3            NaN                  NaN            NaN       NaN   \n",
       "4            NaN                  NaN            NaN       NaN   \n",
       "\n",
       "  duration_seconds via_bot  \n",
       "0              NaN     NaN  \n",
       "1              NaN     NaN  \n",
       "2              NaN     NaN  \n",
       "3              NaN     NaN  \n",
       "4              NaN     NaN  \n",
       "\n",
       "[5 rows x 26 columns]"
      ]
     },
     "execution_count": 5,
     "metadata": {},
     "output_type": "execute_result"
    }
   ],
   "source": [
    "messagesData.head(5)"
   ]
  },
  {
   "cell_type": "markdown",
   "id": "af46b1ee",
   "metadata": {},
   "source": [
    "### Dropping unnecessary features like ids of message, fromPerson, toPerson etc."
   ]
  },
  {
   "cell_type": "code",
   "execution_count": 6,
   "id": "30dc8e91",
   "metadata": {},
   "outputs": [],
   "source": [
    "messagesData = messagesData.loc[:, :'text']"
   ]
  },
  {
   "cell_type": "code",
   "execution_count": 7,
   "id": "fb14f0d9",
   "metadata": {},
   "outputs": [],
   "source": [
    "messagesData = messagesData.drop(['type','id', 'from', 'from_id'], axis = 1)"
   ]
  },
  {
   "cell_type": "markdown",
   "id": "1acf9448",
   "metadata": {},
   "source": [
    "### See size of data and the only features remaining are date and text messages."
   ]
  },
  {
   "cell_type": "code",
   "execution_count": 8,
   "id": "1c8ee10f",
   "metadata": {},
   "outputs": [
    {
     "data": {
      "text/html": [
       "<div>\n",
       "<style scoped>\n",
       "    .dataframe tbody tr th:only-of-type {\n",
       "        vertical-align: middle;\n",
       "    }\n",
       "\n",
       "    .dataframe tbody tr th {\n",
       "        vertical-align: top;\n",
       "    }\n",
       "\n",
       "    .dataframe thead th {\n",
       "        text-align: right;\n",
       "    }\n",
       "</style>\n",
       "<table border=\"1\" class=\"dataframe\">\n",
       "  <thead>\n",
       "    <tr style=\"text-align: right;\">\n",
       "      <th></th>\n",
       "      <th>date</th>\n",
       "      <th>text</th>\n",
       "    </tr>\n",
       "  </thead>\n",
       "  <tbody>\n",
       "    <tr>\n",
       "      <th>0</th>\n",
       "      <td>2021-05-01T00:00:12</td>\n",
       "      <td>hi</td>\n",
       "    </tr>\n",
       "    <tr>\n",
       "      <th>1</th>\n",
       "      <td>2021-05-01T00:01:13</td>\n",
       "      <td>do indicators work?</td>\n",
       "    </tr>\n",
       "    <tr>\n",
       "      <th>2</th>\n",
       "      <td>2021-05-01T00:01:50</td>\n",
       "      <td>If you trade true gbp for gbp Fiat or vice Ver...</td>\n",
       "    </tr>\n",
       "    <tr>\n",
       "      <th>3</th>\n",
       "      <td>2021-05-01T00:02:05</td>\n",
       "      <td>And how much is that fee?</td>\n",
       "    </tr>\n",
       "    <tr>\n",
       "      <th>4</th>\n",
       "      <td>2021-05-01T00:02:12</td>\n",
       "      <td>If you’re a silver card holder</td>\n",
       "    </tr>\n",
       "    <tr>\n",
       "      <th>...</th>\n",
       "      <td>...</td>\n",
       "      <td>...</td>\n",
       "    </tr>\n",
       "    <tr>\n",
       "      <th>49431</th>\n",
       "      <td>2021-05-15T23:56:33</td>\n",
       "      <td>Yea I do</td>\n",
       "    </tr>\n",
       "    <tr>\n",
       "      <th>49432</th>\n",
       "      <td>2021-05-15T23:57:02</td>\n",
       "      <td>I beleive it will tank.</td>\n",
       "    </tr>\n",
       "    <tr>\n",
       "      <th>49433</th>\n",
       "      <td>2021-05-15T23:57:16</td>\n",
       "      <td>Are you worry that too many see that URL is a ...</td>\n",
       "    </tr>\n",
       "    <tr>\n",
       "      <th>49434</th>\n",
       "      <td>2021-05-15T23:58:56</td>\n",
       "      <td>Dammit i want some fake giveaways too. Where i...</td>\n",
       "    </tr>\n",
       "    <tr>\n",
       "      <th>49435</th>\n",
       "      <td>2021-05-15T23:59:40</td>\n",
       "      <td>Too much fake</td>\n",
       "    </tr>\n",
       "  </tbody>\n",
       "</table>\n",
       "<p>49436 rows × 2 columns</p>\n",
       "</div>"
      ],
      "text/plain": [
       "                      date                                               text\n",
       "0      2021-05-01T00:00:12                                                 hi\n",
       "1      2021-05-01T00:01:13                                do indicators work?\n",
       "2      2021-05-01T00:01:50  If you trade true gbp for gbp Fiat or vice Ver...\n",
       "3      2021-05-01T00:02:05                          And how much is that fee?\n",
       "4      2021-05-01T00:02:12                     If you’re a silver card holder\n",
       "...                    ...                                                ...\n",
       "49431  2021-05-15T23:56:33                                           Yea I do\n",
       "49432  2021-05-15T23:57:02                            I beleive it will tank.\n",
       "49433  2021-05-15T23:57:16  Are you worry that too many see that URL is a ...\n",
       "49434  2021-05-15T23:58:56  Dammit i want some fake giveaways too. Where i...\n",
       "49435  2021-05-15T23:59:40                                      Too much fake\n",
       "\n",
       "[49436 rows x 2 columns]"
      ]
     },
     "execution_count": 8,
     "metadata": {},
     "output_type": "execute_result"
    }
   ],
   "source": [
    "messagesData"
   ]
  },
  {
   "cell_type": "markdown",
   "id": "224206d3",
   "metadata": {},
   "source": [
    "### isEnglish function takes into a string/text/message and returns true if it is in English and False otherwise\n",
    "#### Made use of detect from langid library"
   ]
  },
  {
   "cell_type": "code",
   "execution_count": 9,
   "id": "eacb9c41",
   "metadata": {},
   "outputs": [],
   "source": [
    "def isEnglish(text):\n",
    "    try:\n",
    "#         b = TextBlob(text)\n",
    "#         print(b.detect_language())\n",
    "        return langid.classify(text)[0] == 'en'\n",
    "#         return Detector(arabic_text).languag.code == 'en'\n",
    "#         return b.detect_language()=='en'\n",
    "#         return detect(text)=='en'\n",
    "    except:\n",
    "        return False"
   ]
  },
  {
   "cell_type": "markdown",
   "id": "98649450",
   "metadata": {},
   "source": [
    "### Dropping all the non english text rows from dataframe using isEnglish function defined above\n",
    "#### Takes a few minutes to get executed, Progress is measured using tqdm"
   ]
  },
  {
   "cell_type": "code",
   "execution_count": null,
   "id": "4d48795e",
   "metadata": {},
   "outputs": [
    {
     "name": "stderr",
     "output_type": "stream",
     "text": [
      "Filtering non English chats:  67%|████▋  | 32875/49436 [01:12<00:27, 604.16it/s]"
     ]
    }
   ],
   "source": [
    "for index, dataPoint in tqdm(messagesData.iterrows(), total = len(messagesData), desc = 'Filtering non English chats'):\n",
    "    if isEnglish(dataPoint['text']) == False:\n",
    "        messagesData.drop(index, inplace = True)"
   ]
  },
  {
   "cell_type": "markdown",
   "id": "1e9af1c9",
   "metadata": {},
   "source": [
    "### Need to reset indexes everytime we drop some rows from the dataFrame"
   ]
  },
  {
   "cell_type": "code",
   "execution_count": null,
   "id": "78c83526",
   "metadata": {},
   "outputs": [],
   "source": [
    "messagesData = messagesData.reset_index(drop = True)\n",
    "messagesData"
   ]
  },
  {
   "cell_type": "markdown",
   "id": "1ce52a90",
   "metadata": {},
   "source": [
    "### filterOnLetters function return True if the text/message/string contains \"SHIB\" or \"DOGE\", returns False otherwise"
   ]
  },
  {
   "cell_type": "code",
   "execution_count": null,
   "id": "ad3d57b3",
   "metadata": {},
   "outputs": [],
   "source": [
    "def filterOnLetters(text, word1 = \"SHIB\", word2=\"DOGE\"):\n",
    "#     words = text.split()\n",
    "    if text.lower().find(word1.lower())!=-1 or text.lower().find(word2.lower())!=-1:\n",
    "        return True\n",
    "    return False"
   ]
  },
  {
   "cell_type": "markdown",
   "id": "c360c5c3",
   "metadata": {},
   "source": [
    "### Applying filterOnLetters function on the text column of our dataframe, dropping all the rows whose text doesn't contain \"SHIB\" or \"DOGE\""
   ]
  },
  {
   "cell_type": "code",
   "execution_count": null,
   "id": "86feb1b2",
   "metadata": {},
   "outputs": [],
   "source": [
    "# messagesData\n",
    "messagesData = messagesData[messagesData['text'].apply(filterOnLetters)]"
   ]
  },
  {
   "cell_type": "markdown",
   "id": "85dc5736",
   "metadata": {},
   "source": [
    "### Need to reset indexes everytime we drop some rows from the dataFrame"
   ]
  },
  {
   "cell_type": "code",
   "execution_count": null,
   "id": "c9fd1fcd",
   "metadata": {},
   "outputs": [],
   "source": [
    "messagesData = messagesData.reset_index(drop = True)\n",
    "messagesData"
   ]
  },
  {
   "cell_type": "markdown",
   "id": "faa7c3c4",
   "metadata": {},
   "source": [
    "### Observation:\n",
    "#### Initially, we had 49436 rows/messages in our dataframe originally taken from telegram\n",
    "#### After removing non-english sentences, we had 40388 messages left with us in the dataframe\n",
    "#### Further, on applying the \"DOGE\" and \"SHIB\" filter on the dataFrame, we are left with only 2509 messages"
   ]
  },
  {
   "cell_type": "markdown",
   "id": "ec509693",
   "metadata": {},
   "source": [
    "### Unsupervised Sentiment Analysis -\n",
    "#### Using TextBlob lexicon to calculate the sentiment score of each message and further categorizing each message into \"positive\", \"negative\" and \"neutral\" according to the scores assigned by TextBlob"
   ]
  },
  {
   "cell_type": "code",
   "execution_count": null,
   "id": "db693ea9",
   "metadata": {},
   "outputs": [],
   "source": [
    "messagesData['Polarity_TextBlob'] = messagesData['text'].map(lambda text: TextBlob(text).sentiment.polarity)\n",
    "listOfCategoryTextBlob = ['positive' if score > 0 else 'negative' if score < 0 else 'neutral' \n",
    "                                  for score in messagesData['Polarity_TextBlob']]\n",
    "Category_TextBlob = pd.DataFrame(listOfCategoryTextBlob)\n",
    "messagesData['Category_TextBlob'] = Category_TextBlob"
   ]
  },
  {
   "cell_type": "markdown",
   "id": "0e39d5ed",
   "metadata": {},
   "source": [
    "#### Using Afinn lexicon to calculate the sentiment score of each message and further categorizing each message into \"positive\", \"negative\" and \"neutral\" according to the scores assigned by Afinn"
   ]
  },
  {
   "cell_type": "code",
   "execution_count": null,
   "id": "674743ab",
   "metadata": {},
   "outputs": [],
   "source": [
    "anf = afinn.Afinn()\n",
    "messagesData['Polarity_Afinn'] = messagesData['text'].map(lambda text: anf.score(text))\n",
    "Category_Afinn = pd.DataFrame(['positive' if score > 0 else 'negative' if score < 0 else 'neutral' \n",
    "                                  for score in messagesData['Polarity_Afinn']])\n",
    "messagesData['Category_Afinn'] = Category_Afinn"
   ]
  },
  {
   "cell_type": "code",
   "execution_count": null,
   "id": "50123eee",
   "metadata": {},
   "outputs": [],
   "source": [
    "sid = SentimentIntensityAnalyzer()\n",
    "messagesData['Polarity_Vader'] = messagesData['text'].apply(lambda text: sid.polarity_scores(text)).apply(lambda score_dict: score_dict['compound'])\n",
    "messagesData['Category_Vader']=''\n",
    "messagesData.loc[messagesData.Polarity_Vader>0,'Category_Vader']='positive'\n",
    "messagesData.loc[messagesData.Polarity_Vader==0,'Category_Vader']='neutral'\n",
    "messagesData.loc[messagesData.Polarity_Vader<0,'Category_Vader']='negative'\n"
   ]
  },
  {
   "cell_type": "markdown",
   "id": "0e1b9459",
   "metadata": {},
   "source": [
    "#### Above two lexicons are used in order to first compare which will suit better to our dataset."
   ]
  },
  {
   "cell_type": "code",
   "execution_count": null,
   "id": "b8df203e",
   "metadata": {},
   "outputs": [],
   "source": [
    "messagesData"
   ]
  },
  {
   "cell_type": "markdown",
   "id": "37b4f3c2",
   "metadata": {},
   "source": [
    "### Adding one more row to our dataset categorizing each message to know if it contains only \"DOGE\" or only \"SHIB\" or both.\n",
    "#### categorizeOnDogeOrShib is defined in order to check in a text/message/string if it contains \"DOGE\" or \"SHIB\" or both."
   ]
  },
  {
   "cell_type": "code",
   "execution_count": null,
   "id": "93b703ba",
   "metadata": {},
   "outputs": [],
   "source": [
    "def categorizeOnDogeOrShib(text):\n",
    "    words = text.split()\n",
    "    if \"DOGE\" in words and \"SHIB\" in words:\n",
    "        return \"DOGESHIB\"\n",
    "    elif \"DOGE\" in words:\n",
    "        return \"DOGE\"\n",
    "    return \"SHIB\""
   ]
  },
  {
   "cell_type": "code",
   "execution_count": null,
   "id": "88dde3a6",
   "metadata": {},
   "outputs": [],
   "source": [
    "messagesData['DOGE OR SHIB'] = pd.DataFrame([\"DOGESHIB\" if \"doge\" in words.lower() and \"shib\" in words.lower() else \"DOGE\" if \"doge\" in words.lower() else \"SHIB\" for words in messagesData['text']])"
   ]
  },
  {
   "cell_type": "markdown",
   "id": "38d80120",
   "metadata": {},
   "source": [
    "### Grouping the data according to the new feature for comparison of the two lexicons being used"
   ]
  },
  {
   "cell_type": "code",
   "execution_count": null,
   "id": "8ec05b96",
   "metadata": {},
   "outputs": [],
   "source": [
    "messagesData.groupby(by=['DOGE OR SHIB']).describe()"
   ]
  },
  {
   "cell_type": "markdown",
   "id": "3fc2b9fd",
   "metadata": {},
   "source": [
    "## Comparison of Afinn, TextBlob and Vader"
   ]
  },
  {
   "cell_type": "code",
   "execution_count": null,
   "id": "3ef44ea6",
   "metadata": {},
   "outputs": [],
   "source": [
    "# Picking the message index with most Afinn polarity i.e. most positive sentiment message according to Afinn.\n",
    "pos_idx = messagesData[(messagesData.Polarity_Afinn == 7)].index[0]\n",
    "\n",
    "# Picking the message index with least Afinn polarity i.e. most negative sentiment message according to Afinn.\n",
    "neg_idx = messagesData[(messagesData.Polarity_Afinn == -7)].index[0]\n",
    "\n",
    "# Scores +7 and -7 are taken from max and min values in the description of groupby above.\n",
    "\n",
    "print(messagesData.iloc[pos_idx][['text']][0])\n",
    "print()\n",
    "print(messagesData.iloc[neg_idx][['text']][0])"
   ]
  },
  {
   "cell_type": "markdown",
   "id": "d0a0d47f",
   "metadata": {},
   "source": [
    "### Observation:\n",
    "#### Most positive sentiment according to Afinn doesn't really seem like a positive message as the user is disappointed with the SHIB coin.\n",
    "#### Most negative sentiment according to Afinn doesn't really sound like a negative message as the user is being neutral"
   ]
  },
  {
   "cell_type": "code",
   "execution_count": null,
   "id": "6cbdeed6",
   "metadata": {},
   "outputs": [],
   "source": [
    "# Picking the message index with most TextBlob polarity i.e. most positive sentiment message according to TextBlob.\n",
    "pos_idx = messagesData[(messagesData.Polarity_TextBlob == 1)].index[0]\n",
    "\n",
    "# Picking the message index with least TextBlob polarity i.e. most negative sentiment message according to TextBlob.\n",
    "neg_idx = messagesData[(messagesData.Polarity_TextBlob == -1)].index[0]\n",
    "\n",
    "# Scores +1 and -1 are taken from max and min values in the description of groupby above, moreover, TextBlob gives a normalised score.\n",
    "\n",
    "print(messagesData.iloc[pos_idx][['text']][0])\n",
    "print()\n",
    "print(messagesData.iloc[neg_idx][['text']][0])\n"
   ]
  },
  {
   "cell_type": "code",
   "execution_count": null,
   "id": "5320ac31",
   "metadata": {},
   "outputs": [],
   "source": [
    "# Picking the message index with most TextBlob polarity i.e. most positive sentiment message according to TextBlob.\n",
    "pos_idx = messagesData[(messagesData.Polarity_Vader == 0.8951)].index[0]\n",
    "\n",
    "# Picking the message index with least TextBlob polarity i.e. most negative sentiment message according to TextBlob.\n",
    "neg_idx = messagesData[(messagesData.Polarity_Vader == -0.8519)].index[0]\n",
    "\n",
    "# Scores +1 and -1 are taken from max and min values in the description of groupby above, moreover, TextBlob gives a normalised score.\n",
    "\n",
    "print(messagesData.iloc[pos_idx][['text']][0])\n",
    "print()\n",
    "print(messagesData.iloc[neg_idx][['text']][0])"
   ]
  },
  {
   "cell_type": "markdown",
   "id": "e52b3155",
   "metadata": {},
   "source": [
    "## Observation:\n",
    "### While looking at most positive and most negative messages by Vader and others, we observe that Vader is indeed actually better scoring the text in terms of sentiments.\n",
    "### Therefore, I will go with Vader and consider it's scores as more legit and accurate."
   ]
  },
  {
   "cell_type": "markdown",
   "id": "240f220c",
   "metadata": {},
   "source": [
    "## Graphical Differences in Afinn, TextBlob and Vader scorings"
   ]
  },
  {
   "cell_type": "code",
   "execution_count": null,
   "id": "664de7e8",
   "metadata": {},
   "outputs": [],
   "source": [
    "fig = go.Figure()\n",
    "x = ['Positive', 'Negative', 'Neutral']\n",
    "fig.add_trace(go.Bar(\n",
    "    x= x,\n",
    "    y= [messagesData['Category_Afinn'].value_counts()[1], messagesData['Category_Afinn'].value_counts()[2], messagesData['Category_Afinn'].value_counts()[0]], \n",
    "    name='Afinn',\n",
    "    marker_color='indianred'\n",
    "))\n",
    "fig.add_trace(go.Bar(\n",
    "    x=x,\n",
    "    y=[messagesData['Category_TextBlob'].value_counts()[1], messagesData['Category_TextBlob'].value_counts()[2], messagesData['Category_TextBlob'].value_counts()[0]],\n",
    "    name='TextBlob',\n",
    "    marker_color='green'\n",
    "))\n",
    "fig.add_trace(go.Bar(\n",
    "    x=x,\n",
    "    y=[messagesData['Category_Vader'].value_counts()[1], messagesData['Category_Vader'].value_counts()[2], messagesData['Category_Vader'].value_counts()[0]],\n",
    "    name='Vader',\n",
    "    marker_color='orange'\n",
    "))\n",
    "\n",
    "\n",
    "fig.update_layout(barmode='group',\n",
    "                 title=\"Afinn v/s TextBlob v/s Vader polarity differences\",\n",
    "                xaxis_title=\"Sentiment\",\n",
    "                yaxis_title=\"Number of messages\")\n",
    "fig.show()\n",
    "fig.write_image(\"AfinnVSTextBlobVSVader.png\")"
   ]
  },
  {
   "cell_type": "markdown",
   "id": "83fc343c",
   "metadata": {},
   "source": [
    "### Since, we are only observing dates 1-15 of May 2021, we don't really need month, year and time in the date column, we therefore slice our date to what's required from it."
   ]
  },
  {
   "cell_type": "code",
   "execution_count": null,
   "id": "1f36d877",
   "metadata": {},
   "outputs": [],
   "source": [
    "messagesData['date']=messagesData['date'].str.slice(8,10)"
   ]
  },
  {
   "cell_type": "code",
   "execution_count": null,
   "id": "fb199fd7",
   "metadata": {},
   "outputs": [],
   "source": [
    "messagesData"
   ]
  },
  {
   "cell_type": "code",
   "execution_count": null,
   "id": "f0cf066f",
   "metadata": {},
   "outputs": [],
   "source": [
    "messagesData['date'].value_counts()"
   ]
  },
  {
   "cell_type": "code",
   "execution_count": null,
   "id": "247b380f",
   "metadata": {},
   "outputs": [],
   "source": [
    "fig  = px.bar(\n",
    "    x= messagesData['date'],\n",
    "    title= \"Total messages per day\",\n",
    "    labels={\n",
    "            \"x\": \"Date (May 2021)\",\n",
    "    }\n",
    ")\n",
    "fig.update_traces(marker_color='green')\n",
    "fig.show()\n",
    "fig.write_image(\"TotalMessagesPerDay.png\")"
   ]
  },
  {
   "cell_type": "markdown",
   "id": "b44fb32f",
   "metadata": {},
   "source": [
    "### Observations:\n",
    "#### Number of messages increase suddenly on 8th and decrease post 11th, this might be an indicator of price change in either \"DOGE\" or \"SHIB\" or both, as people start discussing more about these in the given date range\n",
    "#### We will later observe if these messages indicate a positive or a negative sentiment towards these coins."
   ]
  },
  {
   "cell_type": "code",
   "execution_count": null,
   "id": "a1f83577",
   "metadata": {},
   "outputs": [],
   "source": [
    "p = messagesData.groupby(['date','Category_Vader']).size()\n",
    "\n",
    "def numberOfSentimentsPerDay(kindOfSentiment, y, p):\n",
    "    for i in range(1,16):\n",
    "        try:\n",
    "            y.append(p[\"{:02d}\".format(i)][kindOfSentiment])\n",
    "        except:\n",
    "            y.append(0)\n",
    "    return y\n",
    "\n",
    "yPositive = []\n",
    "yNegative = []\n",
    "yNeutral = []\n",
    "yPositive = numberOfSentimentsPerDay('positive', yPositive, p)\n",
    "yNegative = numberOfSentimentsPerDay('negative', yNegative, p)\n",
    "yNeutral = numberOfSentimentsPerDay('neutral', yNeutral, p)\n"
   ]
  },
  {
   "cell_type": "code",
   "execution_count": null,
   "id": "d9cf9cce",
   "metadata": {},
   "outputs": [],
   "source": [
    "fig = go.Figure()\n",
    "x = messagesData['date'].unique()\n",
    "yPos = yPositive\n",
    "yNeg = yNegative\n",
    "yNeut = yNeutral\n",
    "\n",
    "fig.add_trace(go.Bar(\n",
    "    x= x,\n",
    "    y= yPos,\n",
    "    name='Positive',\n",
    "    marker_color='green'\n",
    "))\n",
    "\n",
    "fig.add_trace(go.Bar(\n",
    "    x=x,\n",
    "    y= yNeg,\n",
    "    name='Negative',\n",
    "    marker_color='indianred'\n",
    "))\n",
    "fig.add_trace(go.Bar(\n",
    "    x=x,\n",
    "    y= yNeut,\n",
    "    name='Neutral',\n",
    "    marker_color='orange'\n",
    "))\n",
    "\n",
    "fig.update_layout(\n",
    "    title=\"Per Day Sentiment Analysis\",\n",
    "    xaxis_title=\"Dates - May 2021\",\n",
    "    yaxis_title=\"Number of messages\",\n",
    ")\n",
    "\n",
    "fig.show()\n",
    "fig.write_image(\"averageSentimentPerDayPlot.png\")"
   ]
  },
  {
   "cell_type": "markdown",
   "id": "99198bf1",
   "metadata": {},
   "source": [
    "### Observations:\n",
    "#### In the date range [9-13], there are more positive sentiment messages in the group, which might be an indicator of people benefitting of either \"DOGE\" or \"SHIB\", it might also be the case that people are neutral for either one of \"DOGE\" or \"SHIB\" but benefitting from something else as there are comparable negative sentiments too.\n",
    "#### There's a high number of neutral messages on 11th and it might be the case that prices remained as expected or no profit no loss for on of the coins."
   ]
  },
  {
   "cell_type": "code",
   "execution_count": null,
   "id": "f3faf704",
   "metadata": {},
   "outputs": [],
   "source": [
    "dogeData = messagesData[messagesData['DOGE OR SHIB'] == \"DOGE\"]\n",
    "shibData = messagesData[messagesData['DOGE OR SHIB'] == \"SHIB\"]"
   ]
  },
  {
   "cell_type": "code",
   "execution_count": null,
   "id": "751e3eb5",
   "metadata": {},
   "outputs": [],
   "source": [
    "p = dogeData.groupby(['date','Category_Vader']).size()\n",
    "\n",
    "yDogePositive = []\n",
    "yDogeNegative = []\n",
    "yDogeNeutral = []\n",
    "yDogePositive = numberOfSentimentsPerDay('positive', yDogePositive, p)\n",
    "yDogeNegative = numberOfSentimentsPerDay('negative', yDogeNegative, p)\n",
    "yDogeNeutral = numberOfSentimentsPerDay('neutral', yDogeNeutral, p)\n"
   ]
  },
  {
   "cell_type": "code",
   "execution_count": null,
   "id": "5eb40eb3",
   "metadata": {},
   "outputs": [],
   "source": [
    "fig = go.Figure()\n",
    "x = dogeData['date'].unique()\n",
    "yPos = yDogePositive\n",
    "yNeg = yDogeNegative\n",
    "yNeut = yDogeNeutral\n",
    "\n",
    "fig.add_trace(go.Bar(\n",
    "    x= x,\n",
    "    y= yPos,\n",
    "    name='Positive',\n",
    "    marker_color='green'\n",
    "))\n",
    "\n",
    "fig.add_trace(go.Bar(\n",
    "    x=x,\n",
    "    y= yNeg,\n",
    "    name='Negative',\n",
    "    marker_color='indianred'\n",
    "))\n",
    "fig.add_trace(go.Bar(\n",
    "    x=x,\n",
    "    y= yNeut,\n",
    "    name='Neutral',\n",
    "    marker_color='orange'\n",
    "))\n",
    "\n",
    "fig.update_layout(\n",
    "    title=\"Per Day Sentiment Analysis - DOGE\",\n",
    "    xaxis_title=\"Dates - May 2021\",\n",
    "    yaxis_title=\"Number of messages\",\n",
    ")\n",
    "\n",
    "fig.show()\n",
    "fig.write_image(\"averageSentimentPerDayPlot-DOGE.png\")"
   ]
  },
  {
   "cell_type": "markdown",
   "id": "b1e4c428",
   "metadata": {},
   "source": [
    "### Observations : \n",
    "#### Price of DOGE must have been risen on 11th or 12th as there are positive sentiments for DOGE on these dates, on prior days, there are comparable negative sentiments indicating that prices might have been falling before 11th."
   ]
  },
  {
   "cell_type": "code",
   "execution_count": null,
   "id": "1b233898",
   "metadata": {},
   "outputs": [],
   "source": [
    "p = shibData.groupby(['date','Category_Vader']).size()\n",
    "\n",
    "yShibPositive = []\n",
    "yShibNegative = []\n",
    "yShibNeutral = []\n",
    "yShibPositive = numberOfSentimentsPerDay('positive', yDogePositive, p)\n",
    "yShibNegative = numberOfSentimentsPerDay('negative', yDogeNegative, p)\n",
    "yShibNeutral = numberOfSentimentsPerDay('neutral', yDogeNeutral, p)"
   ]
  },
  {
   "cell_type": "code",
   "execution_count": null,
   "id": "e1c9df2d",
   "metadata": {},
   "outputs": [],
   "source": [
    "fig = go.Figure()\n",
    "x = shibData['date'].unique()\n",
    "yPos = yShibPositive\n",
    "yNeg = yShibNegative\n",
    "yNeut = yShibNeutral\n",
    "\n",
    "fig.add_trace(go.Bar(\n",
    "    x= x,\n",
    "    y= yPos,\n",
    "    name='Positive',\n",
    "    marker_color='green'\n",
    "))\n",
    "\n",
    "fig.add_trace(go.Bar(\n",
    "    x=x,\n",
    "    y= yNeg,\n",
    "    name='Negative',\n",
    "    marker_color='indianred'\n",
    "))\n",
    "fig.add_trace(go.Bar(\n",
    "    x=x,\n",
    "    y= yNeut,\n",
    "    name='Neutral',\n",
    "    marker_color='orange'\n",
    "))\n",
    "\n",
    "fig.update_layout(\n",
    "    title=\"Per Day Sentiment Analysis - SHIB\",\n",
    "    xaxis_title=\"Dates - May 2021\",\n",
    "    yaxis_title=\"Number of messages\",\n",
    ")\n",
    "\n",
    "fig.show()\n",
    "fig.write_image(\"averageSentimentPerDayPlot-SHIB.png\")"
   ]
  },
  {
   "cell_type": "code",
   "execution_count": null,
   "id": "708a70c7",
   "metadata": {},
   "outputs": [],
   "source": []
  },
  {
   "cell_type": "code",
   "execution_count": null,
   "id": "46bb0715",
   "metadata": {},
   "outputs": [],
   "source": []
  },
  {
   "cell_type": "code",
   "execution_count": null,
   "id": "99227d6e",
   "metadata": {},
   "outputs": [],
   "source": []
  }
 ],
 "metadata": {
  "kernelspec": {
   "display_name": "Python 3 (ipykernel)",
   "language": "python",
   "name": "python3"
  },
  "language_info": {
   "codemirror_mode": {
    "name": "ipython",
    "version": 3
   },
   "file_extension": ".py",
   "mimetype": "text/x-python",
   "name": "python",
   "nbconvert_exporter": "python",
   "pygments_lexer": "ipython3",
   "version": "3.9.9"
  }
 },
 "nbformat": 4,
 "nbformat_minor": 5
}
